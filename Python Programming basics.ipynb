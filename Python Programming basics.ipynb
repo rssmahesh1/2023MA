{
 "cells": [
  {
   "cell_type": "markdown",
   "metadata": {
    "id": "w6s6hcxh9S90"
   },
   "source": [
    "# Data Types"
   ]
  },
  {
   "cell_type": "code",
   "execution_count": null,
   "metadata": {
    "id": "D1rIaaJx92SO"
   },
   "outputs": [],
   "source": []
  },
  {
   "cell_type": "code",
   "execution_count": null,
   "metadata": {
    "colab": {
     "base_uri": "https://localhost:8080/",
     "height": 34
    },
    "id": "IibpkXO3hupU",
    "outputId": "972df0b7-bfb2-4fa1-dbec-70040ad4ae57"
   },
   "outputs": [
    {
     "name": "stdout",
     "output_type": "stream",
     "text": [
      "hello world\n"
     ]
    }
   ],
   "source": [
    "print('hello world')"
   ]
  },
  {
   "cell_type": "code",
   "execution_count": null,
   "metadata": {
    "colab": {
     "base_uri": "https://localhost:8080/",
     "height": 34
    },
    "id": "nblbX_52jVLh",
    "outputId": "4d0a4924-e320-4f69-f7af-df78118983de"
   },
   "outputs": [
    {
     "data": {
      "text/plain": [
       "5"
      ]
     },
     "execution_count": 29,
     "metadata": {
      "tags": []
     },
     "output_type": "execute_result"
    }
   ],
   "source": [
    "2 + 3"
   ]
  },
  {
   "cell_type": "code",
   "execution_count": null,
   "metadata": {
    "colab": {
     "base_uri": "https://localhost:8080/",
     "height": 34
    },
    "id": "9uPOGNl8jY9k",
    "outputId": "fdd2bad6-e555-4079-dccb-615710c6a701"
   },
   "outputs": [
    {
     "data": {
      "text/plain": [
       "2"
      ]
     },
     "execution_count": 30,
     "metadata": {
      "tags": []
     },
     "output_type": "execute_result"
    }
   ],
   "source": [
    "4 - 2"
   ]
  },
  {
   "cell_type": "code",
   "execution_count": null,
   "metadata": {
    "colab": {
     "base_uri": "https://localhost:8080/",
     "height": 34
    },
    "id": "vUPlmuLWja1i",
    "outputId": "da7eb0d5-8ada-4aae-b68b-d0bbcefa0ff3"
   },
   "outputs": [
    {
     "data": {
      "text/plain": [
       "6"
      ]
     },
     "execution_count": 31,
     "metadata": {
      "tags": []
     },
     "output_type": "execute_result"
    }
   ],
   "source": [
    "3 * 2"
   ]
  },
  {
   "cell_type": "code",
   "execution_count": null,
   "metadata": {
    "colab": {
     "base_uri": "https://localhost:8080/",
     "height": 34
    },
    "id": "4Uu_mcHxjgRa",
    "outputId": "235c3be8-dae0-421b-be81-8e4d3111e514"
   },
   "outputs": [
    {
     "data": {
      "text/plain": [
       "2.25"
      ]
     },
     "execution_count": 32,
     "metadata": {
      "tags": []
     },
     "output_type": "execute_result"
    }
   ],
   "source": [
    "9/4"
   ]
  },
  {
   "cell_type": "code",
   "execution_count": null,
   "metadata": {
    "colab": {
     "base_uri": "https://localhost:8080/",
     "height": 34
    },
    "id": "1HBJ_wHHjqpz",
    "outputId": "e826e5f2-f4d4-4bb2-91ae-20bf22f9c3af"
   },
   "outputs": [
    {
     "data": {
      "text/plain": [
       "2"
      ]
     },
     "execution_count": 33,
     "metadata": {
      "tags": []
     },
     "output_type": "execute_result"
    }
   ],
   "source": [
    "9//4"
   ]
  },
  {
   "cell_type": "code",
   "execution_count": null,
   "metadata": {
    "colab": {
     "base_uri": "https://localhost:8080/",
     "height": 34
    },
    "id": "CD6tb125juXE",
    "outputId": "c817800a-2919-49be-b237-69574487f9b0"
   },
   "outputs": [
    {
     "data": {
      "text/plain": [
       "1"
      ]
     },
     "execution_count": 34,
     "metadata": {
      "tags": []
     },
     "output_type": "execute_result"
    }
   ],
   "source": [
    "9%4"
   ]
  },
  {
   "cell_type": "code",
   "execution_count": null,
   "metadata": {
    "colab": {
     "base_uri": "https://localhost:8080/",
     "height": 34
    },
    "id": "507gzCjLjygT",
    "outputId": "01001b4a-2598-48dd-c742-793154ef3438"
   },
   "outputs": [
    {
     "data": {
      "text/plain": [
       "16"
      ]
     },
     "execution_count": 35,
     "metadata": {
      "tags": []
     },
     "output_type": "execute_result"
    }
   ],
   "source": [
    "2**4"
   ]
  },
  {
   "cell_type": "markdown",
   "metadata": {
    "id": "sQ3fr03fmbci"
   },
   "source": [
    "<h1>Variables</h1>"
   ]
  },
  {
   "cell_type": "code",
   "execution_count": null,
   "metadata": {
    "id": "I5I7XuIXnuj6"
   },
   "outputs": [],
   "source": [
    "a = 2"
   ]
  },
  {
   "cell_type": "code",
   "execution_count": null,
   "metadata": {
    "colab": {
     "base_uri": "https://localhost:8080/",
     "height": 34
    },
    "id": "8-2w_RpQnwXk",
    "outputId": "db5a50a5-0234-4586-e204-38774923531a"
   },
   "outputs": [
    {
     "data": {
      "text/plain": [
       "2"
      ]
     },
     "execution_count": 37,
     "metadata": {
      "tags": []
     },
     "output_type": "execute_result"
    }
   ],
   "source": [
    "a"
   ]
  },
  {
   "cell_type": "code",
   "execution_count": null,
   "metadata": {
    "colab": {
     "base_uri": "https://localhost:8080/",
     "height": 34
    },
    "id": "ihwrf_m2qDFF",
    "outputId": "cec3481b-73b2-440d-9374-91aa4931623c"
   },
   "outputs": [
    {
     "name": "stdout",
     "output_type": "stream",
     "text": [
      "hello\n"
     ]
    }
   ],
   "source": [
    "print('hello')"
   ]
  },
  {
   "cell_type": "markdown",
   "metadata": {
    "id": "auVyTqVVfHMl"
   },
   "source": [
    "# Static vs. Dynamic Typing"
   ]
  },
  {
   "cell_type": "code",
   "execution_count": null,
   "metadata": {
    "id": "BN9mAmQ-fDqj"
   },
   "outputs": [],
   "source": [
    "#dynamic typing\n",
    "a = 10"
   ]
  },
  {
   "cell_type": "code",
   "execution_count": null,
   "metadata": {
    "colab": {
     "base_uri": "https://localhost:8080/",
     "height": 35
    },
    "id": "LBlzW3ObiKtL",
    "outputId": "9a5de4b5-b7ea-4317-eb19-51c2dd903ad7"
   },
   "outputs": [
    {
     "data": {
      "text/plain": [
       "10"
      ]
     },
     "execution_count": 2,
     "metadata": {
      "tags": []
     },
     "output_type": "execute_result"
    }
   ],
   "source": [
    "a"
   ]
  },
  {
   "cell_type": "code",
   "execution_count": null,
   "metadata": {
    "id": "d-gM9DpZiKhd"
   },
   "outputs": [],
   "source": [
    "#static typing\n",
    "int a;\n",
    "a = 20;"
   ]
  },
  {
   "cell_type": "markdown",
   "metadata": {
    "id": "L6Fs0j7e-B8T"
   },
   "source": [
    "# Relational Operators"
   ]
  },
  {
   "cell_type": "code",
   "execution_count": null,
   "metadata": {
    "id": "dUAj9eRChd45"
   },
   "outputs": [],
   "source": [
    "# single = is assignment\n",
    "a = 10"
   ]
  },
  {
   "cell_type": "code",
   "execution_count": null,
   "metadata": {
    "colab": {
     "base_uri": "https://localhost:8080/",
     "height": 35
    },
    "id": "i29sk4r4hlCw",
    "outputId": "6506bcd6-3618-47f6-9978-71563cc75146"
   },
   "outputs": [
    {
     "data": {
      "text/plain": [
       "True"
      ]
     },
     "execution_count": 8,
     "metadata": {
      "tags": []
     },
     "output_type": "execute_result"
    }
   ],
   "source": [
    "# == checking equality relationship\n",
    "10 == 10"
   ]
  },
  {
   "cell_type": "code",
   "execution_count": null,
   "metadata": {
    "colab": {
     "base_uri": "https://localhost:8080/",
     "height": 35
    },
    "id": "4GzoUH5Alh1K",
    "outputId": "0aa40f28-9071-4197-ef7b-ea5229028127"
   },
   "outputs": [
    {
     "data": {
      "text/plain": [
       "True"
      ]
     },
     "execution_count": 15,
     "metadata": {
      "tags": []
     },
     "output_type": "execute_result"
    }
   ],
   "source": [
    "# greater than\n",
    "10 > 9"
   ]
  },
  {
   "cell_type": "code",
   "execution_count": null,
   "metadata": {
    "colab": {
     "base_uri": "https://localhost:8080/",
     "height": 35
    },
    "id": "4UJSWqH2lraB",
    "outputId": "4a520535-6169-48df-9bb1-7b7e0f324ad4"
   },
   "outputs": [
    {
     "data": {
      "text/plain": [
       "True"
      ]
     },
     "execution_count": 16,
     "metadata": {
      "tags": []
     },
     "output_type": "execute_result"
    }
   ],
   "source": [
    "# less than\n",
    "7 < 9"
   ]
  },
  {
   "cell_type": "code",
   "execution_count": null,
   "metadata": {
    "colab": {
     "base_uri": "https://localhost:8080/",
     "height": 35
    },
    "id": "3CvaRTrblwNp",
    "outputId": "6606dd39-75eb-47e2-dfa3-466884bad902"
   },
   "outputs": [
    {
     "data": {
      "text/plain": [
       "True"
      ]
     },
     "execution_count": 17,
     "metadata": {
      "tags": []
     },
     "output_type": "execute_result"
    }
   ],
   "source": [
    "# greater than or equal (GTE)\n",
    "10 >= 10"
   ]
  },
  {
   "cell_type": "code",
   "execution_count": null,
   "metadata": {
    "colab": {
     "base_uri": "https://localhost:8080/",
     "height": 35
    },
    "id": "mxVtZOxTl2g_",
    "outputId": "40c4ba3e-7525-4c61-88fa-2d3fb0185160"
   },
   "outputs": [
    {
     "data": {
      "text/plain": [
       "False"
      ]
     },
     "execution_count": 20,
     "metadata": {
      "tags": []
     },
     "output_type": "execute_result"
    }
   ],
   "source": [
    "# less than or equal (LTE)\n",
    "10 <= 9"
   ]
  },
  {
   "cell_type": "code",
   "execution_count": null,
   "metadata": {
    "colab": {
     "base_uri": "https://localhost:8080/",
     "height": 35
    },
    "id": "7s-iOb2ejSxh",
    "outputId": "568da875-d489-4d7d-df0c-06601275cffa"
   },
   "outputs": [
    {
     "data": {
      "text/plain": [
       "True"
      ]
     },
     "execution_count": 19,
     "metadata": {
      "tags": []
     },
     "output_type": "execute_result"
    }
   ],
   "source": [
    "# not equal\n",
    "9 != 10"
   ]
  },
  {
   "cell_type": "markdown",
   "metadata": {
    "id": "gf80cYXh87ar"
   },
   "source": [
    "# Assignment Operators"
   ]
  },
  {
   "cell_type": "code",
   "execution_count": null,
   "metadata": {
    "id": "XUvA_ZOHh58e"
   },
   "outputs": [],
   "source": [
    "a = 10"
   ]
  },
  {
   "cell_type": "code",
   "execution_count": null,
   "metadata": {
    "id": "IpxyNxUOoOBi"
   },
   "outputs": [],
   "source": [
    "score = 0\n",
    "life = 3"
   ]
  },
  {
   "cell_type": "code",
   "execution_count": null,
   "metadata": {
    "id": "Lsc1ZYAuoiVQ"
   },
   "outputs": [],
   "source": [
    "score = 0 + 10"
   ]
  },
  {
   "cell_type": "code",
   "execution_count": null,
   "metadata": {
    "colab": {
     "base_uri": "https://localhost:8080/",
     "height": 34
    },
    "id": "heEUVFnIolyp",
    "outputId": "f7b3e320-e738-4ac2-837b-b7f023b71650"
   },
   "outputs": [
    {
     "data": {
      "text/plain": [
       "40"
      ]
     },
     "execution_count": 33,
     "metadata": {
      "tags": []
     },
     "output_type": "execute_result"
    }
   ],
   "source": [
    "score"
   ]
  },
  {
   "cell_type": "code",
   "execution_count": null,
   "metadata": {
    "id": "QeRjWV4Pong4"
   },
   "outputs": [],
   "source": [
    "score = 10 + 10"
   ]
  },
  {
   "cell_type": "code",
   "execution_count": null,
   "metadata": {
    "id": "F-WUrBECotmQ"
   },
   "outputs": [],
   "source": [
    "score = score + 10"
   ]
  },
  {
   "cell_type": "code",
   "execution_count": null,
   "metadata": {
    "id": "HX6w6zjroy1I"
   },
   "outputs": [],
   "source": [
    "score += 10"
   ]
  },
  {
   "cell_type": "code",
   "execution_count": null,
   "metadata": {
    "colab": {
     "base_uri": "https://localhost:8080/",
     "height": 34
    },
    "id": "hxsQcjoQpOD5",
    "outputId": "6221825e-cd51-4312-cf89-c84bd92db390"
   },
   "outputs": [
    {
     "data": {
      "text/plain": [
       "1"
      ]
     },
     "execution_count": 38,
     "metadata": {
      "tags": []
     },
     "output_type": "execute_result"
    }
   ],
   "source": [
    "life"
   ]
  },
  {
   "cell_type": "code",
   "execution_count": null,
   "metadata": {
    "id": "CmIrnR75pQMg"
   },
   "outputs": [],
   "source": [
    "life -= 1"
   ]
  },
  {
   "cell_type": "markdown",
   "metadata": {
    "id": "GFCsOQEL8czD"
   },
   "source": [
    "# String Indexing"
   ]
  },
  {
   "cell_type": "code",
   "execution_count": null,
   "metadata": {
    "colab": {
     "base_uri": "https://localhost:8080/",
     "height": 35
    },
    "id": "NNmh9pe3BP7A",
    "outputId": "5f6aa84f-fe48-4fbc-f8cb-b576fa70a446"
   },
   "outputs": [
    {
     "data": {
      "text/plain": [
       "'print'"
      ]
     },
     "execution_count": 5,
     "metadata": {
      "tags": []
     },
     "output_type": "execute_result"
    }
   ],
   "source": [
    "'print'"
   ]
  },
  {
   "cell_type": "code",
   "execution_count": null,
   "metadata": {
    "colab": {
     "base_uri": "https://localhost:8080/",
     "height": 35
    },
    "id": "qEjQERAuBh8v",
    "outputId": "90ee2615-ebaa-4bd2-9272-38b4678279ce"
   },
   "outputs": [
    {
     "data": {
      "text/plain": [
       "'hello world'"
      ]
     },
     "execution_count": 6,
     "metadata": {
      "tags": []
     },
     "output_type": "execute_result"
    }
   ],
   "source": [
    "\"hello world\""
   ]
  },
  {
   "cell_type": "code",
   "execution_count": null,
   "metadata": {
    "colab": {
     "base_uri": "https://localhost:8080/",
     "height": 69
    },
    "id": "AXvrmgI1Bld3",
    "outputId": "85eb55d2-3735-4d1c-d24b-a8072643ed8f"
   },
   "outputs": [
    {
     "name": "stdout",
     "output_type": "stream",
     "text": [
      "hello world\n",
      "I am john\n",
      "print all the lines\n"
     ]
    }
   ],
   "source": [
    "print(\"hello world\")\n",
    "print(\"I am john\")\n",
    "print(\"print all the lines\")"
   ]
  },
  {
   "cell_type": "code",
   "execution_count": null,
   "metadata": {
    "colab": {
     "base_uri": "https://localhost:8080/",
     "height": 35
    },
    "id": "LRxIierrCh7f",
    "outputId": "7aacb165-78ff-42a1-8636-2993e85e490e"
   },
   "outputs": [
    {
     "data": {
      "text/plain": [
       "3"
      ]
     },
     "execution_count": 11,
     "metadata": {
      "tags": []
     },
     "output_type": "execute_result"
    }
   ],
   "source": [
    " 1 + 2"
   ]
  },
  {
   "cell_type": "code",
   "execution_count": null,
   "metadata": {
    "colab": {
     "base_uri": "https://localhost:8080/",
     "height": 35
    },
    "id": "tbFvc9mbClPH",
    "outputId": "a02ee4a2-99e1-4d3f-9ade-bc3a1afca546"
   },
   "outputs": [
    {
     "data": {
      "text/plain": [
       "'catdoghelp'"
      ]
     },
     "execution_count": 13,
     "metadata": {
      "tags": []
     },
     "output_type": "execute_result"
    }
   ],
   "source": [
    "#string concatination\n",
    "\"cat\" + \"dog\" + \"help\""
   ]
  },
  {
   "cell_type": "code",
   "execution_count": null,
   "metadata": {
    "colab": {
     "base_uri": "https://localhost:8080/",
     "height": 35
    },
    "id": "e3KpmLuXCxpt",
    "outputId": "fc64b589-77e6-439b-b540-e0db2c6cdb84"
   },
   "outputs": [
    {
     "data": {
      "text/plain": [
       "6"
      ]
     },
     "execution_count": 14,
     "metadata": {
      "tags": []
     },
     "output_type": "execute_result"
    }
   ],
   "source": [
    "2 * 3"
   ]
  },
  {
   "cell_type": "code",
   "execution_count": null,
   "metadata": {
    "colab": {
     "base_uri": "https://localhost:8080/",
     "height": 35
    },
    "id": "wMsrUlrICzev",
    "outputId": "fcac9878-5ea9-483f-93c5-7668e2c32365"
   },
   "outputs": [
    {
     "data": {
      "text/plain": [
       "'------------------------------'"
      ]
     },
     "execution_count": 17,
     "metadata": {
      "tags": []
     },
     "output_type": "execute_result"
    }
   ],
   "source": [
    "\"-\" * 30"
   ]
  },
  {
   "cell_type": "code",
   "execution_count": null,
   "metadata": {
    "id": "r6U4jg1vDHFu"
   },
   "outputs": [],
   "source": [
    "s = \"hello\""
   ]
  },
  {
   "cell_type": "code",
   "execution_count": null,
   "metadata": {
    "colab": {
     "base_uri": "https://localhost:8080/",
     "height": 35
    },
    "id": "oOaBmE6HDy0R",
    "outputId": "040d7bd0-6550-441a-ff2e-5905d1b4132b"
   },
   "outputs": [
    {
     "data": {
      "text/plain": [
       "'hello'"
      ]
     },
     "execution_count": 19,
     "metadata": {
      "tags": []
     },
     "output_type": "execute_result"
    }
   ],
   "source": [
    "s"
   ]
  },
  {
   "cell_type": "code",
   "execution_count": null,
   "metadata": {
    "colab": {
     "base_uri": "https://localhost:8080/",
     "height": 35
    },
    "id": "dSKwWi-8D0BW",
    "outputId": "40d95be2-84f6-4e11-a290-747fd56d669e"
   },
   "outputs": [
    {
     "data": {
      "text/plain": [
       "'h'"
      ]
     },
     "execution_count": 20,
     "metadata": {
      "tags": []
     },
     "output_type": "execute_result"
    }
   ],
   "source": [
    "#indexing\n",
    "s[0]"
   ]
  },
  {
   "cell_type": "code",
   "execution_count": null,
   "metadata": {
    "colab": {
     "base_uri": "https://localhost:8080/",
     "height": 35
    },
    "id": "3JF0MyYHD2yN",
    "outputId": "46fc61a6-5b0d-46ee-cd1e-66424295b188"
   },
   "outputs": [
    {
     "data": {
      "text/plain": [
       "'o'"
      ]
     },
     "execution_count": 21,
     "metadata": {
      "tags": []
     },
     "output_type": "execute_result"
    }
   ],
   "source": [
    "s[4]"
   ]
  },
  {
   "cell_type": "code",
   "execution_count": null,
   "metadata": {
    "colab": {
     "base_uri": "https://localhost:8080/",
     "height": 35
    },
    "id": "vrR8xQ3aD8GO",
    "outputId": "a7b66a76-f942-4a52-f0a7-e1f1ee2e0e8a"
   },
   "outputs": [
    {
     "data": {
      "text/plain": [
       "'o'"
      ]
     },
     "execution_count": 22,
     "metadata": {
      "tags": []
     },
     "output_type": "execute_result"
    }
   ],
   "source": [
    "s[-1]"
   ]
  },
  {
   "cell_type": "code",
   "execution_count": null,
   "metadata": {
    "colab": {
     "base_uri": "https://localhost:8080/",
     "height": 35
    },
    "id": "KLfz3rbeEAkm",
    "outputId": "83b2e822-d45a-4a87-fa46-50b3e7337e17"
   },
   "outputs": [
    {
     "data": {
      "text/plain": [
       "'h'"
      ]
     },
     "execution_count": 23,
     "metadata": {
      "tags": []
     },
     "output_type": "execute_result"
    }
   ],
   "source": [
    "s[-5]"
   ]
  },
  {
   "cell_type": "code",
   "execution_count": null,
   "metadata": {
    "id": "agqohzdlSz0h"
   },
   "outputs": [],
   "source": [
    "#multiline strings (triple single or double quotes)\n",
    "name = 'john'\n",
    "address = \"\"\"123, 1st cross,\n",
    "2nd main road,\n",
    "city - 600001\"\"\""
   ]
  },
  {
   "cell_type": "code",
   "execution_count": null,
   "metadata": {
    "colab": {
     "base_uri": "https://localhost:8080/",
     "height": 69
    },
    "id": "wMCgSmjYWRen",
    "outputId": "235f8419-3b4c-4d07-fe89-ae8920ad7b18"
   },
   "outputs": [
    {
     "name": "stdout",
     "output_type": "stream",
     "text": [
      "123, 1st cross,\n",
      "2nd main road,\n",
      "city - 600001\n"
     ]
    }
   ],
   "source": [
    "print(address)"
   ]
  },
  {
   "cell_type": "code",
   "execution_count": null,
   "metadata": {
    "colab": {
     "base_uri": "https://localhost:8080/",
     "height": 35
    },
    "id": "vsq90bceS6i_",
    "outputId": "c9c0f2ce-0ed0-4363-a7a7-967efdc5b0b6"
   },
   "outputs": [
    {
     "data": {
      "text/plain": [
       "'246'"
      ]
     },
     "execution_count": 34,
     "metadata": {
      "tags": []
     },
     "output_type": "execute_result"
    }
   ],
   "source": [
    "#string slicing\n",
    "#[start:stop:step]\n",
    "name = 'hear'\n",
    "name[:2]\n",
    "name[1:]\n",
    "name[1:3]\n",
    "numbers = '12345678'\n",
    "numbers[::3]\n",
    "numbers[1:-2:]\n",
    "numbers[1:-2:2]"
   ]
  },
  {
   "cell_type": "code",
   "execution_count": null,
   "metadata": {
    "colab": {
     "base_uri": "https://localhost:8080/",
     "height": 35
    },
    "id": "uqmXHrAkTWJz",
    "outputId": "ba93f065-abbb-4d02-bcb1-9b9586b854e1"
   },
   "outputs": [
    {
     "data": {
      "text/plain": [
       "['stay hUNgry', ' stAy foolish', '']"
      ]
     },
     "execution_count": 54,
     "metadata": {
      "tags": []
     },
     "output_type": "execute_result"
    }
   ],
   "source": [
    "#string functions or methods\n",
    "#fn_name(arg)\n",
    "#obj_name.method_name(arg)\n",
    "#small letters and capital letters - lower case and upper case\n",
    "name = 'JOHN'\n",
    "quote = 'stay hUNgry. stAy foolish.'\n",
    "lengthy = 'our mission is to collect the world data and to organize it to make it accessible and useful'\n",
    "alpa = 'iamaboy'\n",
    "digit = '---2134---'\n",
    "alpnum = 'iam24yearsold'\n",
    "#methods used for switching cases\n",
    "name.upper()\n",
    "name.lower()\n",
    "quote.title()\n",
    "lengthy.capitalize()\n",
    "quote.swapcase()\n",
    "\n",
    "#methods to check the value within string\n",
    "alpa.isalnum()\n",
    "alpa.isalpha()\n",
    "alpnum.isalpha()\n",
    "alpnum.isalnum()\n",
    "digit.isdigit()\n",
    "\n",
    "#string formatting methods\n",
    "digit.rstrip('-')\n",
    "digit.lstrip('-')\n",
    "digit.strip('-')\n",
    "\n",
    "quote.split('.')"
   ]
  },
  {
   "cell_type": "code",
   "execution_count": null,
   "metadata": {
    "id": "461V7l06Z0Of"
   },
   "outputs": [],
   "source": [
    "while True:\n",
    "  print('hello world')"
   ]
  },
  {
   "cell_type": "code",
   "execution_count": 1,
   "metadata": {
    "colab": {
     "base_uri": "https://localhost:8080/",
     "height": 35
    },
    "id": "RzA-nTzAbNsW",
    "outputId": "f5b11dd1-744a-4546-cad9-bb5e8bfd3361"
   },
   "outputs": [
    {
     "ename": "SyntaxError",
     "evalue": "Missing parentheses in call to 'print'. Did you mean print(3)? (1084585956.py, line 4)",
     "output_type": "error",
     "traceback": [
      "\u001b[1;36m  Input \u001b[1;32mIn [1]\u001b[1;36m\u001b[0m\n\u001b[1;33m    print 3\u001b[0m\n\u001b[1;37m          ^\u001b[0m\n\u001b[1;31mSyntaxError\u001b[0m\u001b[1;31m:\u001b[0m Missing parentheses in call to 'print'. Did you mean print(3)?\n"
     ]
    }
   ],
   "source": [
    "if 1 < 2:\n",
    "  if 2 < 3:\n",
    "    if 3 > 4:\n",
    "      print 3\n",
    "    else:\n",
    "      print 4\n",
    "  else:\n",
    "    print 5\n",
    "else:\n",
    "  print 6"
   ]
  },
  {
   "cell_type": "markdown",
   "metadata": {
    "id": "u4-Q6ZvE79e8"
   },
   "source": [
    "# List []"
   ]
  },
  {
   "cell_type": "markdown",
   "metadata": {
    "id": "QplfloDYT-3a"
   },
   "source": [
    "Sequence of elements, order preserved, mutuable (changable)"
   ]
  },
  {
   "cell_type": "code",
   "execution_count": 1,
   "metadata": {
    "id": "752g6GMBHM96"
   },
   "outputs": [],
   "source": [
    "A = [1,2,3]"
   ]
  },
  {
   "cell_type": "code",
   "execution_count": 2,
   "metadata": {
    "colab": {
     "base_uri": "https://localhost:8080/",
     "height": 34
    },
    "id": "uNtcisY-UUsh",
    "outputId": "d226e873-b0e7-4ed8-890f-8797edadca54"
   },
   "outputs": [
    {
     "data": {
      "text/plain": [
       "[1, 2, 3]"
      ]
     },
     "execution_count": 2,
     "metadata": {},
     "output_type": "execute_result"
    }
   ],
   "source": [
    "A"
   ]
  },
  {
   "cell_type": "code",
   "execution_count": 3,
   "metadata": {
    "colab": {
     "base_uri": "https://localhost:8080/",
     "height": 34
    },
    "id": "XWOsa8TBUa6w",
    "outputId": "d6ce821d-21cd-4ef1-e2a9-0efd7833ca37"
   },
   "outputs": [
    {
     "data": {
      "text/plain": [
       "['a', 1, 2.0, [1, 2, 3]]"
      ]
     },
     "execution_count": 3,
     "metadata": {},
     "output_type": "execute_result"
    }
   ],
   "source": [
    "A = ['a',1,2.0,[1,2,3]]\n",
    "A"
   ]
  },
  {
   "cell_type": "code",
   "execution_count": 4,
   "metadata": {
    "id": "nDiiE1v_Ugoo"
   },
   "outputs": [],
   "source": [
    "A = ['Rohit', 'Dhawan', 'Kohli', 'Rahane', 'Rayudu', 'Dhoni']"
   ]
  },
  {
   "cell_type": "code",
   "execution_count": 5,
   "metadata": {
    "colab": {
     "base_uri": "https://localhost:8080/",
     "height": 35
    },
    "id": "isSaTjYSUsE9",
    "outputId": "764502db-ae21-40d6-f7c3-b32da05b7b04"
   },
   "outputs": [
    {
     "data": {
      "text/plain": [
       "'Rohit'"
      ]
     },
     "execution_count": 5,
     "metadata": {},
     "output_type": "execute_result"
    }
   ],
   "source": [
    "A[0]"
   ]
  },
  {
   "cell_type": "code",
   "execution_count": 6,
   "metadata": {
    "colab": {
     "base_uri": "https://localhost:8080/",
     "height": 35
    },
    "id": "RgqPBLiyU47m",
    "outputId": "2400e0fb-1fc2-4ca1-c978-957e5bae8bed"
   },
   "outputs": [
    {
     "data": {
      "text/plain": [
       "'Dhoni'"
      ]
     },
     "execution_count": 6,
     "metadata": {},
     "output_type": "execute_result"
    }
   ],
   "source": [
    "A[-1]"
   ]
  },
  {
   "cell_type": "code",
   "execution_count": 7,
   "metadata": {
    "colab": {
     "base_uri": "https://localhost:8080/",
     "height": 34
    },
    "id": "VhReGUl5U72_",
    "outputId": "4a0de9ec-7dc3-4c4f-d803-7249dc08e5f0"
   },
   "outputs": [
    {
     "data": {
      "text/plain": [
       "['Rohit', 'Dhawan', 'Kohli', 'Rahane']"
      ]
     },
     "execution_count": 7,
     "metadata": {},
     "output_type": "execute_result"
    }
   ],
   "source": [
    "A[:4]"
   ]
  },
  {
   "cell_type": "code",
   "execution_count": 8,
   "metadata": {
    "colab": {
     "base_uri": "https://localhost:8080/",
     "height": 34
    },
    "id": "evHVXcHFU_t3",
    "outputId": "2c167a2f-b906-4a91-f184-772d59734ee7"
   },
   "outputs": [
    {
     "data": {
      "text/plain": [
       "['Rayudu', 'Dhoni']"
      ]
     },
     "execution_count": 8,
     "metadata": {},
     "output_type": "execute_result"
    }
   ],
   "source": [
    "A[4:]"
   ]
  },
  {
   "cell_type": "code",
   "execution_count": 9,
   "metadata": {
    "id": "ha0PxFBOVD79"
   },
   "outputs": [],
   "source": [
    "A = [1,2]\n",
    "B = [3,4]"
   ]
  },
  {
   "cell_type": "code",
   "execution_count": 10,
   "metadata": {
    "colab": {
     "base_uri": "https://localhost:8080/",
     "height": 34
    },
    "id": "9k2HJtL-VJeN",
    "outputId": "2d2ee596-8299-44af-f3d7-45713994ebec"
   },
   "outputs": [
    {
     "data": {
      "text/plain": [
       "[1, 2, 3, 4]"
      ]
     },
     "execution_count": 10,
     "metadata": {},
     "output_type": "execute_result"
    }
   ],
   "source": [
    "A + B "
   ]
  },
  {
   "cell_type": "code",
   "execution_count": 11,
   "metadata": {
    "id": "jpzZUQ80VSN_"
   },
   "outputs": [],
   "source": [
    "string1 = 'Mahesh'"
   ]
  },
  {
   "cell_type": "code",
   "execution_count": 12,
   "metadata": {
    "colab": {
     "base_uri": "https://localhost:8080/",
     "height": 35
    },
    "id": "l7J_iaR-VWbe",
    "outputId": "ead1ee2c-0760-47c7-9496-c179a0c1fddd"
   },
   "outputs": [
    {
     "data": {
      "text/plain": [
       "'s'"
      ]
     },
     "execution_count": 12,
     "metadata": {},
     "output_type": "execute_result"
    }
   ],
   "source": [
    "string1[-2]"
   ]
  },
  {
   "cell_type": "code",
   "execution_count": 13,
   "metadata": {
    "colab": {
     "base_uri": "https://localhost:8080/",
     "height": 166
    },
    "id": "3XZEFYRwVZII",
    "outputId": "df4a5c07-bfa0-406b-a5d3-af79c9b02763"
   },
   "outputs": [
    {
     "ename": "TypeError",
     "evalue": "'str' object does not support item assignment",
     "output_type": "error",
     "traceback": [
      "\u001b[1;31m---------------------------------------------------------------------------\u001b[0m",
      "\u001b[1;31mTypeError\u001b[0m                                 Traceback (most recent call last)",
      "Input \u001b[1;32mIn [13]\u001b[0m, in \u001b[0;36m<cell line: 1>\u001b[1;34m()\u001b[0m\n\u001b[1;32m----> 1\u001b[0m string1[\u001b[38;5;241m-\u001b[39m\u001b[38;5;241m2\u001b[39m] \u001b[38;5;241m=\u001b[39m \u001b[38;5;124m'\u001b[39m\u001b[38;5;124ma\u001b[39m\u001b[38;5;124m'\u001b[39m\n",
      "\u001b[1;31mTypeError\u001b[0m: 'str' object does not support item assignment"
     ]
    }
   ],
   "source": [
    "string1[-2] = 'a'"
   ]
  },
  {
   "cell_type": "code",
   "execution_count": 27,
   "metadata": {
    "colab": {
     "base_uri": "https://localhost:8080/",
     "height": 35
    },
    "id": "RvUTCI5gVipe",
    "outputId": "06bed4b0-8eb9-4487-9b34-3875bc13734d"
   },
   "outputs": [],
   "source": [
    "A=[1,2,3,4]"
   ]
  },
  {
   "cell_type": "code",
   "execution_count": 17,
   "metadata": {
    "colab": {
     "base_uri": "https://localhost:8080/",
     "height": 35
    },
    "id": "UtkZWUBsVke9",
    "outputId": "6138c90a-67e0-4487-aa1e-43367f613055"
   },
   "outputs": [
    {
     "data": {
      "text/plain": [
       "20"
      ]
     },
     "execution_count": 17,
     "metadata": {},
     "output_type": "execute_result"
    }
   ],
   "source": [
    "A[1]"
   ]
  },
  {
   "cell_type": "code",
   "execution_count": 16,
   "metadata": {
    "id": "mRp4NRAvVnDU"
   },
   "outputs": [
    {
     "data": {
      "text/plain": [
       "[1, 20, 3, 4]"
      ]
     },
     "execution_count": 16,
     "metadata": {},
     "output_type": "execute_result"
    }
   ],
   "source": [
    "A[1] = 20\n",
    "A"
   ]
  },
  {
   "cell_type": "code",
   "execution_count": 21,
   "metadata": {
    "id": "0zJCv4blVx4P"
   },
   "outputs": [
    {
     "data": {
      "text/plain": [
       "[1, 2, 3, 4, 5]"
      ]
     },
     "execution_count": 21,
     "metadata": {},
     "output_type": "execute_result"
    }
   ],
   "source": [
    "A.append(5)\n",
    "A"
   ]
  },
  {
   "cell_type": "code",
   "execution_count": 31,
   "metadata": {},
   "outputs": [],
   "source": [
    "A=[1,2,3,4,5]"
   ]
  },
  {
   "cell_type": "code",
   "execution_count": 33,
   "metadata": {
    "colab": {
     "base_uri": "https://localhost:8080/",
     "height": 35
    },
    "id": "stduQ5PgV9K2",
    "outputId": "5659df46-dbce-49d9-91c1-e5725e1f185f"
   },
   "outputs": [
    {
     "ename": "IndexError",
     "evalue": "pop index out of range",
     "output_type": "error",
     "traceback": [
      "\u001b[1;31m---------------------------------------------------------------------------\u001b[0m",
      "\u001b[1;31mIndexError\u001b[0m                                Traceback (most recent call last)",
      "Input \u001b[1;32mIn [33]\u001b[0m, in \u001b[0;36m<cell line: 1>\u001b[1;34m()\u001b[0m\n\u001b[1;32m----> 1\u001b[0m \u001b[43mA\u001b[49m\u001b[38;5;241;43m.\u001b[39;49m\u001b[43mpop\u001b[49m\u001b[43m(\u001b[49m\u001b[38;5;241;43m-\u001b[39;49m\u001b[38;5;241;43m6\u001b[39;49m\u001b[43m)\u001b[49m\n\u001b[0;32m      2\u001b[0m A\n",
      "\u001b[1;31mIndexError\u001b[0m: pop index out of range"
     ]
    }
   ],
   "source": [
    "A.pop(-6)\n",
    "A"
   ]
  },
  {
   "cell_type": "code",
   "execution_count": 34,
   "metadata": {
    "id": "5EZZEDjSZtip"
   },
   "outputs": [
    {
     "data": {
      "text/plain": [
       "[1, 2, 4, 5]"
      ]
     },
     "execution_count": 34,
     "metadata": {},
     "output_type": "execute_result"
    }
   ],
   "source": [
    "A.sort()\n",
    "A"
   ]
  },
  {
   "cell_type": "code",
   "execution_count": 35,
   "metadata": {
    "id": "bTN_O7-mZ5Bl"
   },
   "outputs": [
    {
     "data": {
      "text/plain": [
       "[5, 4, 2, 1]"
      ]
     },
     "execution_count": 35,
     "metadata": {},
     "output_type": "execute_result"
    }
   ],
   "source": [
    "A.reverse()\n",
    "A"
   ]
  },
  {
   "cell_type": "code",
   "execution_count": 36,
   "metadata": {
    "id": "Dp43bBrUZ--8"
   },
   "outputs": [
    {
     "data": {
      "text/plain": [
       "[]"
      ]
     },
     "execution_count": 36,
     "metadata": {},
     "output_type": "execute_result"
    }
   ],
   "source": [
    "A.clear()\n",
    "A"
   ]
  },
  {
   "cell_type": "markdown",
   "metadata": {
    "id": "sQndbpv47pNV"
   },
   "source": [
    "# Tuple ()"
   ]
  },
  {
   "cell_type": "code",
   "execution_count": 37,
   "metadata": {
    "id": "ahqDOos3cP9T"
   },
   "outputs": [],
   "source": [
    "a = (1,2,3) #tuple"
   ]
  },
  {
   "cell_type": "code",
   "execution_count": 40,
   "metadata": {
    "id": "Rtk4PRVOcf_2"
   },
   "outputs": [],
   "source": [
    "b = [1,2,3] #list"
   ]
  },
  {
   "cell_type": "code",
   "execution_count": 41,
   "metadata": {
    "colab": {
     "base_uri": "https://localhost:8080/",
     "height": 35
    },
    "id": "khNw6LXpcklw",
    "outputId": "8f7e31ec-6e5a-42fa-bc9e-10cd3748dccd"
   },
   "outputs": [
    {
     "data": {
      "text/plain": [
       "list"
      ]
     },
     "execution_count": 41,
     "metadata": {},
     "output_type": "execute_result"
    }
   ],
   "source": [
    "type(b)"
   ]
  },
  {
   "cell_type": "code",
   "execution_count": 46,
   "metadata": {
    "colab": {
     "base_uri": "https://localhost:8080/",
     "height": 35
    },
    "id": "QBDhImK5cx-N",
    "outputId": "7e816bf6-d9c9-4541-d4fa-25ac845fa403"
   },
   "outputs": [
    {
     "data": {
      "text/plain": [
       "[1, 2, 3]"
      ]
     },
     "execution_count": 46,
     "metadata": {},
     "output_type": "execute_result"
    }
   ],
   "source": [
    "b"
   ]
  },
  {
   "cell_type": "code",
   "execution_count": 42,
   "metadata": {
    "colab": {
     "base_uri": "https://localhost:8080/",
     "height": 166
    },
    "id": "HqA64OjUc91H",
    "outputId": "3f46d608-05d7-4717-9587-d1047f54e3bc"
   },
   "outputs": [
    {
     "ename": "TypeError",
     "evalue": "'tuple' object does not support item assignment",
     "output_type": "error",
     "traceback": [
      "\u001b[1;31m---------------------------------------------------------------------------\u001b[0m",
      "\u001b[1;31mTypeError\u001b[0m                                 Traceback (most recent call last)",
      "Input \u001b[1;32mIn [42]\u001b[0m, in \u001b[0;36m<cell line: 1>\u001b[1;34m()\u001b[0m\n\u001b[1;32m----> 1\u001b[0m a[\u001b[38;5;241m0\u001b[39m] \u001b[38;5;241m=\u001b[39m \u001b[38;5;241m10\u001b[39m\n",
      "\u001b[1;31mTypeError\u001b[0m: 'tuple' object does not support item assignment"
     ]
    }
   ],
   "source": [
    "a[0] = 10"
   ]
  },
  {
   "cell_type": "code",
   "execution_count": 43,
   "metadata": {
    "id": "Te5Y71tNdCR4"
   },
   "outputs": [],
   "source": [
    "a = (1,1,1,3,2,3)"
   ]
  },
  {
   "cell_type": "code",
   "execution_count": 44,
   "metadata": {
    "colab": {
     "base_uri": "https://localhost:8080/",
     "height": 35
    },
    "id": "cYE0sioDdQvJ",
    "outputId": "3e32aa99-a511-44b5-90b9-c0ba69f189ff"
   },
   "outputs": [
    {
     "data": {
      "text/plain": [
       "3"
      ]
     },
     "execution_count": 44,
     "metadata": {},
     "output_type": "execute_result"
    }
   ],
   "source": [
    "a.count(1)"
   ]
  },
  {
   "cell_type": "code",
   "execution_count": 54,
   "metadata": {
    "colab": {
     "base_uri": "https://localhost:8080/",
     "height": 35
    },
    "id": "o99zIyqVdSnw",
    "outputId": "7bbb5617-6e76-4ab2-d3b2-444fe4588853"
   },
   "outputs": [
    {
     "data": {
      "text/plain": [
       "2"
      ]
     },
     "execution_count": 54,
     "metadata": {},
     "output_type": "execute_result"
    }
   ],
   "source": [
    "a.index(1,2)"
   ]
  },
  {
   "cell_type": "markdown",
   "metadata": {
    "id": "E0WiklMp7UPm"
   },
   "source": [
    "# Set {}"
   ]
  },
  {
   "cell_type": "code",
   "execution_count": 47,
   "metadata": {
    "id": "hMhxYwycn1XJ"
   },
   "outputs": [],
   "source": [
    "numbers = {1,2,3,1,3,6,7} #list [] tuple () sets {}"
   ]
  },
  {
   "cell_type": "code",
   "execution_count": 48,
   "metadata": {
    "id": "ovQk5MmG7jA6"
   },
   "outputs": [
    {
     "data": {
      "text/plain": [
       "{1, 2, 3, 6, 7}"
      ]
     },
     "execution_count": 48,
     "metadata": {},
     "output_type": "execute_result"
    }
   ],
   "source": [
    "numbers"
   ]
  },
  {
   "cell_type": "code",
   "execution_count": 49,
   "metadata": {
    "colab": {
     "base_uri": "https://localhost:8080/",
     "height": 35
    },
    "id": "GWBo0tjIywk6",
    "outputId": "fa7c7c2f-e162-4656-bc45-248a387f08c9"
   },
   "outputs": [
    {
     "data": {
      "text/plain": [
       "set"
      ]
     },
     "execution_count": 49,
     "metadata": {},
     "output_type": "execute_result"
    }
   ],
   "source": [
    "type(numbers)"
   ]
  },
  {
   "cell_type": "markdown",
   "metadata": {
    "id": "JwmDnUasy8ho"
   },
   "source": [
    "unordered \n",
    "unique elements"
   ]
  },
  {
   "cell_type": "code",
   "execution_count": 58,
   "metadata": {
    "id": "Jvbj32P3zAnq"
   },
   "outputs": [],
   "source": [
    "numbers = [1,1,1,3,2]"
   ]
  },
  {
   "cell_type": "code",
   "execution_count": 59,
   "metadata": {
    "colab": {
     "base_uri": "https://localhost:8080/",
     "height": 35
    },
    "id": "yupSKiRWzENC",
    "outputId": "687246ca-73f3-406d-cba0-ec0d1bedd76a"
   },
   "outputs": [
    {
     "data": {
      "text/plain": [
       "5"
      ]
     },
     "execution_count": 59,
     "metadata": {},
     "output_type": "execute_result"
    }
   ],
   "source": [
    "len(numbers)"
   ]
  },
  {
   "cell_type": "code",
   "execution_count": 60,
   "metadata": {
    "id": "6vrYdrgQzIEB"
   },
   "outputs": [],
   "source": [
    "numbers = {1,1,1,3,2}"
   ]
  },
  {
   "cell_type": "code",
   "execution_count": 61,
   "metadata": {
    "colab": {
     "base_uri": "https://localhost:8080/",
     "height": 35
    },
    "id": "9zP-arvrzLJJ",
    "outputId": "baa25e85-372a-4f1c-c6f3-3cee21bfd3c5"
   },
   "outputs": [
    {
     "data": {
      "text/plain": [
       "3"
      ]
     },
     "execution_count": 61,
     "metadata": {},
     "output_type": "execute_result"
    }
   ],
   "source": [
    "len(numbers)"
   ]
  },
  {
   "cell_type": "code",
   "execution_count": 62,
   "metadata": {
    "colab": {
     "base_uri": "https://localhost:8080/",
     "height": 35
    },
    "id": "kXjWWqwDzNEK",
    "outputId": "12491f4d-f239-4110-e0ac-805aec48a833"
   },
   "outputs": [
    {
     "data": {
      "text/plain": [
       "{1, 2, 3}"
      ]
     },
     "execution_count": 62,
     "metadata": {},
     "output_type": "execute_result"
    }
   ],
   "source": [
    "numbers"
   ]
  },
  {
   "cell_type": "code",
   "execution_count": 50,
   "metadata": {
    "id": "9FUsvwrPzTCJ"
   },
   "outputs": [],
   "source": [
    "numbers = [11,12,12,12,13]"
   ]
  },
  {
   "cell_type": "code",
   "execution_count": 51,
   "metadata": {
    "id": "WOE3Fhw-zWy1"
   },
   "outputs": [],
   "source": [
    "num = set(numbers)"
   ]
  },
  {
   "cell_type": "code",
   "execution_count": 52,
   "metadata": {
    "id": "2whc_vD8zbNY"
   },
   "outputs": [],
   "source": [
    "num.add(10)"
   ]
  },
  {
   "cell_type": "code",
   "execution_count": 53,
   "metadata": {
    "colab": {
     "base_uri": "https://localhost:8080/",
     "height": 35
    },
    "id": "kPvMQ4XuzzHx",
    "outputId": "e48d34da-48a1-4b07-8f92-f7d8be45dac5"
   },
   "outputs": [
    {
     "data": {
      "text/plain": [
       "{10, 11, 12, 13}"
      ]
     },
     "execution_count": 53,
     "metadata": {},
     "output_type": "execute_result"
    }
   ],
   "source": [
    "num"
   ]
  },
  {
   "cell_type": "code",
   "execution_count": 55,
   "metadata": {},
   "outputs": [],
   "source": [
    "num.discard(10)"
   ]
  },
  {
   "cell_type": "code",
   "execution_count": 56,
   "metadata": {
    "colab": {
     "base_uri": "https://localhost:8080/",
     "height": 166
    },
    "id": "_RCBvV1Qz5WF",
    "outputId": "1dbe8647-8afc-416c-fa4c-863747d5380f"
   },
   "outputs": [
    {
     "ename": "KeyError",
     "evalue": "10",
     "output_type": "error",
     "traceback": [
      "\u001b[1;31m---------------------------------------------------------------------------\u001b[0m",
      "\u001b[1;31mKeyError\u001b[0m                                  Traceback (most recent call last)",
      "Input \u001b[1;32mIn [56]\u001b[0m, in \u001b[0;36m<cell line: 1>\u001b[1;34m()\u001b[0m\n\u001b[1;32m----> 1\u001b[0m \u001b[43mnum\u001b[49m\u001b[38;5;241;43m.\u001b[39;49m\u001b[43mremove\u001b[49m\u001b[43m(\u001b[49m\u001b[38;5;241;43m10\u001b[39;49m\u001b[43m)\u001b[49m\n",
      "\u001b[1;31mKeyError\u001b[0m: 10"
     ]
    }
   ],
   "source": [
    "num.remove(10)"
   ]
  },
  {
   "cell_type": "markdown",
   "metadata": {
    "id": "p9-LYJXu3d0j"
   },
   "source": [
    "#Dictionaries in python"
   ]
  },
  {
   "cell_type": "code",
   "execution_count": 57,
   "metadata": {
    "colab": {
     "base_uri": "https://localhost:8080/"
    },
    "id": "kuDUnwha0WSE",
    "outputId": "5f1cb943-1004-49c2-cddf-665fcb331bb1"
   },
   "outputs": [
    {
     "data": {
      "text/plain": [
       "50"
      ]
     },
     "execution_count": 57,
     "metadata": {},
     "output_type": "execute_result"
    }
   ],
   "source": [
    "# dictionary\n",
    "names = {\n",
    "    1:'Kannan',\n",
    "    2:'Ram',\n",
    "    3:'sita'\n",
    "}\n",
    "\n",
    "items = {\n",
    "    'apple':100,\n",
    "    'banana':50\n",
    "}\n",
    "\n",
    "items['banana']\n",
    "\n"
   ]
  },
  {
   "cell_type": "code",
   "execution_count": 81,
   "metadata": {
    "colab": {
     "base_uri": "https://localhost:8080/"
    },
    "id": "XNSINzd53jya",
    "outputId": "9e2b8459-ff66-43a7-a260-25a85bcc0c78"
   },
   "outputs": [
    {
     "data": {
      "text/plain": [
       "20"
      ]
     },
     "execution_count": 81,
     "metadata": {},
     "output_type": "execute_result"
    }
   ],
   "source": [
    "# dictionary nested\n",
    "nest = {\n",
    "    1:['Kannan',100,20],\n",
    "    2:['Ram',40,60]\n",
    "}\n",
    "\n",
    "a = nest[1]\n",
    "a[1]\n",
    "\n",
    "nest[1][2]"
   ]
  },
  {
   "cell_type": "code",
   "execution_count": 82,
   "metadata": {
    "colab": {
     "base_uri": "https://localhost:8080/"
    },
    "id": "lKsy3Vsa3qlF",
    "outputId": "fd564ea2-d35f-4f5e-9ef2-ed802c11e25a"
   },
   "outputs": [
    {
     "data": {
      "text/plain": [
       "{1: ['Kannan', 100, 20], 2: ['Ramcharan', 40, 60]}"
      ]
     },
     "execution_count": 82,
     "metadata": {},
     "output_type": "execute_result"
    }
   ],
   "source": [
    "# reassignment\n",
    "nest[2] = ['Ramcharan',40,60]\n",
    "nest"
   ]
  },
  {
   "cell_type": "code",
   "execution_count": 83,
   "metadata": {
    "colab": {
     "base_uri": "https://localhost:8080/"
    },
    "id": "z95Z6cCX3_Hr",
    "outputId": "9684cf8a-f520-439e-fb71-ccf0c0c797f8"
   },
   "outputs": [
    {
     "data": {
      "text/plain": [
       "dict_values([['Kannan', 100, 20], ['Ramcharan', 40, 60]])"
      ]
     },
     "execution_count": 83,
     "metadata": {},
     "output_type": "execute_result"
    }
   ],
   "source": [
    "# functions\n",
    "nest.items()\n",
    "nest.keys()\n",
    "nest.values()"
   ]
  },
  {
   "cell_type": "markdown",
   "metadata": {
    "id": "-762zaE_4ECR"
   },
   "source": [
    "#If..Elif..Else"
   ]
  },
  {
   "cell_type": "code",
   "execution_count": null,
   "metadata": {
    "colab": {
     "base_uri": "https://localhost:8080/",
     "height": 35
    },
    "id": "tKr-70sg6Mzw",
    "outputId": "6cec61e5-85e9-458e-8b49-e96e475dec4b"
   },
   "outputs": [
    {
     "name": "stdout",
     "output_type": "stream",
     "text": [
      "hi\n"
     ]
    }
   ],
   "source": [
    "# IF\n",
    "if False:\n",
    "  print('hello')\n",
    "print('hi')\n"
   ]
  },
  {
   "cell_type": "code",
   "execution_count": null,
   "metadata": {
    "colab": {
     "base_uri": "https://localhost:8080/",
     "height": 35
    },
    "id": "mNRCde9N6SRg",
    "outputId": "957480db-9bc3-44c4-eb31-11e3457ed484"
   },
   "outputs": [
    {
     "name": "stdout",
     "output_type": "stream",
     "text": [
      "Even\n"
     ]
    }
   ],
   "source": [
    "#IF.. ELSE\n",
    "num = 4\n",
    "\n",
    "if num % 2 == 0:\n",
    "  print('Even')\n",
    "else:\n",
    "  print('Odd')"
   ]
  },
  {
   "cell_type": "code",
   "execution_count": null,
   "metadata": {
    "colab": {
     "base_uri": "https://localhost:8080/",
     "height": 35
    },
    "id": "Jn3yj87a6T_1",
    "outputId": "f8fe3502-8677-4fd6-af4a-f8919bf56d18"
   },
   "outputs": [
    {
     "name": "stdout",
     "output_type": "stream",
     "text": [
      "You are not a progammer\n"
     ]
    }
   ],
   "source": [
    "#IF.. ELIF.. ELSE\n",
    "name = 'Rust'\n",
    "\n",
    "if name == 'C':\n",
    "  print ('Hi old programmer')\n",
    "elif name == 'Python':\n",
    "  print ('Hi Fellow programmer')\n",
    "elif name == 'Java':\n",
    "  print ('Hi Object Oriented Programmer')\n",
    "else:\n",
    "  print ('You are not a progammer')"
   ]
  },
  {
   "cell_type": "code",
   "execution_count": null,
   "metadata": {
    "colab": {
     "base_uri": "https://localhost:8080/",
     "height": 35
    },
    "id": "pvoQfzBU6XFV",
    "outputId": "c181165e-dd79-42b3-fa77-373acb0660af"
   },
   "outputs": [
    {
     "data": {
      "application/vnd.google.colaboratory.intrinsic+json": {
       "type": "string"
      },
      "text/plain": [
       "'Even'"
      ]
     },
     "execution_count": 51,
     "metadata": {
      "tags": []
     },
     "output_type": "execute_result"
    }
   ],
   "source": [
    "#Ternary Operator \n",
    "#[on_true] if [expression] else [on_false] \n",
    "num = 2\n",
    "'Even' if num % 2 == 0 else 'ODD'"
   ]
  },
  {
   "cell_type": "code",
   "execution_count": null,
   "metadata": {
    "colab": {
     "base_uri": "https://localhost:8080/",
     "height": 35
    },
    "id": "vOFeuffT6qLc",
    "outputId": "fd4f51c5-749f-41f2-e067-a9241b436934"
   },
   "outputs": [
    {
     "name": "stdout",
     "output_type": "stream",
     "text": [
      "GO and watch Chuti TV\n"
     ]
    }
   ],
   "source": [
    "#Nested IF\n",
    "gender = 'M'\n",
    "age = 8\n",
    "\n",
    "if age >= 18:\n",
    "  if gender == 'M':\n",
    "    print('You can vote and you can get married')\n",
    "  else:\n",
    "    print('You can vote but can not marry[penin thirumana vayathu 21]')\n",
    "else:\n",
    "  print('GO and watch Chuti TV')"
   ]
  },
  {
   "cell_type": "markdown",
   "metadata": {
    "id": "SsvN4sDv7ORE"
   },
   "source": [
    "#For...ever and ever"
   ]
  },
  {
   "cell_type": "code",
   "execution_count": null,
   "metadata": {
    "id": "g2j_eqnI7fjQ"
   },
   "outputs": [],
   "source": [
    "#Iterable\n",
    "[1,2,3]\n",
    "'HELLO'"
   ]
  },
  {
   "cell_type": "code",
   "execution_count": 84,
   "metadata": {},
   "outputs": [
    {
     "name": "stdout",
     "output_type": "stream",
     "text": [
      "1\n",
      "2\n",
      "3\n"
     ]
    }
   ],
   "source": [
    "#For\n",
    "for item in [1,2,3]:\n",
    "  print (item)"
   ]
  },
  {
   "cell_type": "code",
   "execution_count": null,
   "metadata": {
    "colab": {
     "base_uri": "https://localhost:8080/",
     "height": 121
    },
    "id": "Cv3UXV6A7sNj",
    "outputId": "6aaa9ec7-8025-42f4-f461-dbc3e2eb6d24"
   },
   "outputs": [
    {
     "name": "stdout",
     "output_type": "stream",
     "text": [
      "k\n",
      "a\n",
      "n\n",
      "n\n",
      "a\n",
      "n\n"
     ]
    }
   ],
   "source": [
    "#For\n",
    "for item in 'kannan':\n",
    "  print (item)"
   ]
  },
  {
   "cell_type": "code",
   "execution_count": null,
   "metadata": {
    "colab": {
     "base_uri": "https://localhost:8080/",
     "height": 173
    },
    "id": "sQ7ToCkp8Dkd",
    "outputId": "3c981d43-2ed6-430e-ca7e-80b0545510cc"
   },
   "outputs": [
    {
     "name": "stdout",
     "output_type": "stream",
     "text": [
      "cool\n",
      "cool\n",
      "cool\n",
      "cool\n",
      "cool\n",
      "cool\n",
      "cool\n",
      "cool\n",
      "cool\n"
     ]
    }
   ],
   "source": [
    "#Never used iter _\n",
    "for _ in 'something':\n",
    "  print ('cool')"
   ]
  },
  {
   "cell_type": "code",
   "execution_count": null,
   "metadata": {
    "colab": {
     "base_uri": "https://localhost:8080/",
     "height": 121
    },
    "id": "KcuKPRz_8M9V",
    "outputId": "0cf2c99f-1267-4efb-e676-2f3f3dd8ec1c"
   },
   "outputs": [
    {
     "name": "stdout",
     "output_type": "stream",
     "text": [
      "1\n",
      "2\n",
      "3\n",
      "4\n",
      "5\n",
      "6\n"
     ]
    }
   ],
   "source": [
    "#Multidimenionsal iterables\n",
    "for item in [[1,2],[3,4],[5,6]]:\n",
    "  for num in item:\n",
    "    print (num)"
   ]
  },
  {
   "cell_type": "markdown",
   "metadata": {
    "id": "WeCqwT8n913i"
   },
   "source": [
    "#While...ago"
   ]
  },
  {
   "cell_type": "code",
   "execution_count": null,
   "metadata": {
    "id": "W-WWY61798VX"
   },
   "outputs": [],
   "source": [
    "#while\n",
    "num = 10\n",
    "while num < 5:\n",
    "  print (num)\n",
    "  num = num + 1"
   ]
  },
  {
   "cell_type": "code",
   "execution_count": null,
   "metadata": {
    "colab": {
     "base_uri": "https://localhost:8080/",
     "height": 69
    },
    "id": "R1q9zD2I-B9V",
    "outputId": "f4c2c448-1af6-42de-9f17-19224c14598c"
   },
   "outputs": [
    {
     "name": "stdout",
     "output_type": "stream",
     "text": [
      "3\n",
      "4\n",
      "Number not in range\n"
     ]
    }
   ],
   "source": [
    "#While...else\n",
    "num = 3\n",
    "while num < 5:\n",
    "  print (num)\n",
    "  num = num + 1\n",
    "else:\n",
    "  print('Number not in range')"
   ]
  },
  {
   "cell_type": "code",
   "execution_count": null,
   "metadata": {
    "id": "HbW6YAXx-fPk"
   },
   "outputs": [],
   "source": [
    "#pass \n",
    "for letter in 'kannan':\n",
    "  pass"
   ]
  },
  {
   "cell_type": "code",
   "execution_count": 85,
   "metadata": {
    "colab": {
     "base_uri": "https://localhost:8080/",
     "height": 35
    },
    "id": "y0t6pTQi-jDN",
    "outputId": "c2b2186b-c130-478b-954d-26795a126e25"
   },
   "outputs": [
    {
     "name": "stdout",
     "output_type": "stream",
     "text": [
      "k\n",
      "n\n",
      "n\n",
      "n\n"
     ]
    }
   ],
   "source": [
    "#continue... break \n",
    "for letter in 'kannan':\n",
    "  if letter == 'a':\n",
    "    continue\n",
    "  print (letter)"
   ]
  },
  {
   "cell_type": "code",
   "execution_count": 86,
   "metadata": {},
   "outputs": [
    {
     "name": "stdout",
     "output_type": "stream",
     "text": [
      "k\n"
     ]
    }
   ],
   "source": [
    "#continue... break \n",
    "for letter in 'kannan':\n",
    "  if letter == 'a':\n",
    "    break\n",
    "  print (letter)"
   ]
  },
  {
   "cell_type": "markdown",
   "metadata": {
    "id": "DVkg255-_R2j"
   },
   "source": [
    "#Functions"
   ]
  },
  {
   "cell_type": "code",
   "execution_count": null,
   "metadata": {
    "id": "G_EYZNgH_VI-"
   },
   "outputs": [],
   "source": [
    "# Def function\n",
    "def hello():\n",
    "  print('hello')"
   ]
  },
  {
   "cell_type": "code",
   "execution_count": null,
   "metadata": {
    "colab": {
     "base_uri": "https://localhost:8080/",
     "height": 35
    },
    "id": "rwnlp3LG_XAr",
    "outputId": "4a2510c0-0fda-4d21-ef56-e1c8399fbd7e"
   },
   "outputs": [
    {
     "name": "stdout",
     "output_type": "stream",
     "text": [
      "hello\n"
     ]
    }
   ],
   "source": [
    "# call function\n",
    "hello()"
   ]
  },
  {
   "cell_type": "code",
   "execution_count": null,
   "metadata": {
    "id": "sCyCIRxy_clU"
   },
   "outputs": [],
   "source": [
    "# Doc strings\n",
    "def hello():\n",
    "  \"\"\"this function prints a hello\"\"\"\n",
    "  print('hello')\n",
    "\n",
    "hello()"
   ]
  },
  {
   "cell_type": "code",
   "execution_count": null,
   "metadata": {
    "colab": {
     "base_uri": "https://localhost:8080/",
     "height": 35
    },
    "id": "EQAhVraq_eqp",
    "outputId": "dd56e41f-8f1d-4db0-e4c3-093863338451"
   },
   "outputs": [
    {
     "name": "stdout",
     "output_type": "stream",
     "text": [
      "good morning\n"
     ]
    }
   ],
   "source": [
    "# Parameters ... Arguments ... default values\n",
    "def greeting(message='hello'):\n",
    "  print(message)\n",
    "\n",
    "text = greeting('good morning')\n"
   ]
  },
  {
   "cell_type": "code",
   "execution_count": null,
   "metadata": {
    "colab": {
     "base_uri": "https://localhost:8080/",
     "height": 35
    },
    "id": "mWPCQS71NJ7m",
    "outputId": "21c8e6ec-2877-45e3-b992-7aa04d0931bf"
   },
   "outputs": [
    {
     "data": {
      "text/plain": [
       "NoneType"
      ]
     },
     "execution_count": 92,
     "metadata": {
      "tags": []
     },
     "output_type": "execute_result"
    }
   ],
   "source": [
    "type(text)"
   ]
  },
  {
   "cell_type": "code",
   "execution_count": null,
   "metadata": {
    "id": "pJ2wzb6q_n7v"
   },
   "outputs": [],
   "source": [
    "# Return\n",
    "def add(num1, num2):\n",
    "  return num1 + num2\n",
    "\n",
    "num = add(1,2)"
   ]
  },
  {
   "cell_type": "code",
   "execution_count": null,
   "metadata": {
    "colab": {
     "base_uri": "https://localhost:8080/",
     "height": 34
    },
    "id": "Q1LCkPqWNQ9V",
    "outputId": "69d0ac73-7032-467b-c761-b91e330d3891"
   },
   "outputs": [
    {
     "data": {
      "text/plain": [
       "3"
      ]
     },
     "execution_count": 94,
     "metadata": {
      "tags": []
     },
     "output_type": "execute_result"
    }
   ],
   "source": [
    "num"
   ]
  }
 ],
 "metadata": {
  "colab": {
   "collapsed_sections": [
    "-762zaE_4ECR",
    "SsvN4sDv7ORE",
    "WeCqwT8n913i"
   ],
   "name": "Copy of Python.ipynb",
   "provenance": []
  },
  "kernelspec": {
   "display_name": "Python 3 (ipykernel)",
   "language": "python",
   "name": "python3"
  },
  "language_info": {
   "codemirror_mode": {
    "name": "ipython",
    "version": 3
   },
   "file_extension": ".py",
   "mimetype": "text/x-python",
   "name": "python",
   "nbconvert_exporter": "python",
   "pygments_lexer": "ipython3",
   "version": "3.9.12"
  }
 },
 "nbformat": 4,
 "nbformat_minor": 1
}
